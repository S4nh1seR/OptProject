{
 "cells": [
  {
   "cell_type": "code",
   "execution_count": 2,
   "metadata": {},
   "outputs": [],
   "source": [
    "%matplotlib inline\n",
    "\n",
    "import numpy as np\n",
    "import matplotlib.pyplot as plt\n",
    "import time\n",
    "from scipy.optimize import minimize"
   ]
  },
  {
   "cell_type": "markdown",
   "metadata": {},
   "source": [
    "## Задача:"
   ]
  },
  {
   "cell_type": "markdown",
   "metadata": {},
   "source": [
    "Задача имеет следующий вид:\n",
    "$$\n",
    "\\begin{aligned}\n",
    "    & \\text{minimize}    && \\sum_{t = 1}^{T}F(p_{eng}(t)) && \\\\\n",
    "    & \\text{subject to}  && p_{req}(t) = p_{eng}(t) + p_{mg}(t) - p_{br}(t),\\quad t = 1,\\ldots,T\\\\\n",
    "    &                    && E(t + 1) = E(t) - p_{mg}(t) - \\eta|p_{mg}(t)|\\\\\n",
    "    &                    && 0 \\leqslant E(t) \\leqslant E_{batt}^{max}\\\\\n",
    "    &                    && E(1) = E(T + 1) \\\\\n",
    "    &                    && 0 \\leqslant p_{eng}(t) \\leqslant P_{eng}^{max}\\\\\n",
    "    &                    && P_{mg}^{min} \\leqslant p_{mg}(t) \\leqslant P_{mg}^{max}\\\\\n",
    "    &                    && 0 \\leqslant p_{br}(t),\\\\\n",
    "\\end{aligned}\n",
    "$$\n",
    "Чтобы упростить задачу, уиз ограничения с модулем уберем данное слагаемое, то есть будем считать что система идеальна и энергия не рассеивается в окружающее пространство просто так. Тогда задача принимает вид:\n",
    "$$\n",
    "\\begin{aligned}\n",
    "    & \\text{minimize}    && \\sum_{t = 1}^{T}F(p_{eng}(t)) \\\\\n",
    "    & \\text{subject to}  && p_{req}(t) = p_{eng}(t) + p_{mg}(t) - p_{br}(t),\\quad t = 1,\\ldots,T \\\\\n",
    "    &                    && E(t + 1) = E(t) - p_{mg}(t) \\\\\n",
    "    &                    && 0 \\leqslant E(t) \\leqslant E_{batt}^{max} \\\\\n",
    "    &                    && E(1) = E(T + 1) \\\\\n",
    "    &                    && 0 \\leqslant p_{eng}(t) \\leqslant P_{eng}^{max} \\\\\n",
    "    &                    && P_{mg}^{min} \\leqslant p_{mg}(t) \\leqslant P_{mg}^{max} \\\\\n",
    "    &                    && 0 \\leqslant p_{br}(t), \\\\\n",
    "\\end{aligned}\n",
    "$$\n",
    "Введем переменную $x = (p_{eng}(1), \\ldots, p_{eng}(T), p_{mg}(1),\\ldots,p_{mg}(T),p_{br}(1),\\ldots,p_{br}(T),E(1),\\ldots,E(T+1))$, $\\dim x = 4T+1$, зададим $f_0(x)=\\sum_{i = 0}^{T-1}F(x_i)$.\n",
    "$$\n",
    "\\begin{aligned}\n",
    "    & \\text{minimize}    && f_0(x) \\\\\n",
    "    & \\text{subject to}  && p_{req}(t) = x_{i}(t) + x_{i+T}(t) - x_{i+2T}(t),\\quad i = 0,\\ldots,T-1 \\\\\n",
    "    &                    && x_{j + 1} = x_j - x_{j-2T},\\quad i = 3T,\\ldots,4T-1 \\\\\n",
    "    &                    && 0 \\leqslant x_k \\leqslant E_{batt}^{max},\\quad k = 3T,\\ldots,4T \\\\\n",
    "    &                    && x_{3T} = x_{4T} \\\\\n",
    "    &                    && 0 \\leqslant x_l \\leqslant P_{eng}^{max},\\quad l = 0,\\ldots,T-1 \\\\\n",
    "    &                    && P_{mg}^{min} \\leqslant x_{m} \\leqslant P_{mg}^{max},\\quad m = T,\\ldots,2T-1 \\\\\n",
    "    &                    && 0 \\leqslant x_{r},\\quad r = 2T,\\ldots,3T-1 \\\\\n",
    "\\end{aligned}\n",
    "$$\n",
    "В матричной форме:\n",
    "$$\n",
    "\\begin{aligned}\n",
    "    & \\text{minimize}    && f_0(x) \\\\\n",
    "    & \\text{subject to}  && Hx \\preceq g \\\\\n",
    "    &                    && Ax = b \\\\\n",
    "\\end{aligned}\n",
    "$$"
   ]
  },
  {
   "cell_type": "markdown",
   "metadata": {},
   "source": [
    "# Метод внутренней точки: \n",
    "## Поиск минимума с использованием логарифмической барьерной функции и метода Ньютона с ограничениями типа равенств. "
   ]
  },
  {
   "cell_type": "code",
   "execution_count": 3,
   "metadata": {},
   "outputs": [],
   "source": [
    "# Заданные параметры задачи\n",
    "T = 5             # общее число точек фиксированного времени\n",
    "P_mg_max = 0.5    # верхняя грань для p_mg\n",
    "P_mg_min = -0.5   #  нижняя грань для p_mg\n",
    "P_eng_max = 0.8   # верхняя грань для p_eng\n",
    "E_bat_max = 1     # верхняя грань для E\n",
    "\n",
    "p_req = np.array([0.375, 0.96, 0.74, 0.6, 0.17])   # требуемые значения p_req мощности при t = 1...T"
   ]
  },
  {
   "cell_type": "code",
   "execution_count": 4,
   "metadata": {},
   "outputs": [],
   "source": [
    "# Матрица ограничений-равенств\n",
    "str_1 = np.zeros(4*T + 1)\n",
    "str_1[0], str_1[T], str_1[2*T] = 1, 1, -1\n",
    "str_2 = np.zeros(4*T + 1)\n",
    "str_2[T], str_2[3*T], str_2[3*T + 1] = 1, -1, 1\n",
    "str_3 = np.zeros(4*T + 1)\n",
    "str_3[3*T], str_3[-1] = 1, -1\n",
    "\n",
    "A_mtx = np.zeros(shape=(2*T+1, 4*T+1))\n",
    "for i in range(T):\n",
    "    A_mtx[i] = np.roll(str_1, i)\n",
    "    A_mtx[i+T] = np.roll(str_2, i)\n",
    "A_mtx[-1] = str_3\n",
    "\n",
    "# Правая часть ограничений-равенств\n",
    "b = np.zeros(2*T + 1)\n",
    "b[:T] = p_req\n",
    "\n",
    "# Матрица ограничений-неравенств\n",
    "H = np.zeros(shape=(7*T+2,4*T+1))\n",
    "H[:(4*T+1),:] = np.diag(-np.ones(4*T+1))\n",
    "H[(4*T+1):(6*T+1),:2*T] = np.diag(np.ones(2*T))\n",
    "H[(6*T+1):, 3*T:] = np.diag(np.ones(T+1))\n",
    "\n",
    "# Правая часть ограничений-неравенств\n",
    "g = np.zeros(7*T+2)\n",
    "g[T:2*T] = -P_mg_min*np.ones(T)\n",
    "g[(4*T+1):(5*T+1)] = P_eng_max*np.ones(T)\n",
    "g[(5*T+1):(6*T+1)] = P_mg_max*np.ones(T)\n",
    "g[(6*T+1):] = E_bat_max*np.ones(T+1)\n",
    "\n",
    "# Внутренняя точка допустимой области\n",
    "x0 = np.array([0.5, 0.7, 0.7, 0.5, 0.65, -0.1, 0.3, 0.1, 0.15, -0.45, 0.025, 0.04, 0.06, 0.05, 0.03, 0.5, 0.6, 0.3, 0.2, 0.05, 0.5])"
   ]
  },
  {
   "cell_type": "markdown",
   "metadata": {},
   "source": [
    "Воспользуемся барьерным методом решения задачи с ограничениями: к исходной функции прибавим логарифмическую барьерную:\n",
    "$$\n",
    "f(x) = f_0(x) - r\\sum_{i = 0}^m \\log(-g_i(x)),\n",
    "$$\n",
    "где $g_i(x)$ - линейные ограничения-неравенства в задаче. Таким образом, внутри допустимой области добавка будет малой, тогда как при приближении к границе области она будет неограниченно возрастать."
   ]
  },
  {
   "cell_type": "code",
   "execution_count": 5,
   "metadata": {},
   "outputs": [],
   "source": [
    "r = 1.   # коэф-т барьерного метода решения задачи с ограничениями\n",
    "\n",
    "# Исходная функция F(x) = sum(x_i*log(x_i + 1))\n",
    "F = lambda x: x * np.log(x + 1)\n",
    "gradF = lambda x: np.log(x + 1) + x / (x + 1)\n",
    "hessF = lambda x: np.diag((x + 2) / ((x + 1) **2))\n",
    "\n",
    "def f(x):\n",
    "    res = sum(F(x[:T]))                     # исходная функция\n",
    "    res += (r * sum(-np.log(-(H @ x-g))))   # логарифмический барьер\n",
    "    return res\n",
    "\n",
    "# Градиент целевой функции\n",
    "def gradf(x):\n",
    "    res = np.zeros(4*T + 1)\n",
    "    res[:T] = gradF(x[0:T])        # градиент исходной функции\n",
    "    \n",
    "    tmp = (H @ x-g)\n",
    "    for i in range(H.shape[0]):\n",
    "#         if tmp[i] == 0:\n",
    "#             print(\"error\")\n",
    "        res += (r * (-H[i,:].T) / tmp[i])  # подсчет градиента барьерной части\n",
    "    return res\n",
    "\n",
    "# Гессиан целевой функции\n",
    "def hessf(x):\n",
    "    res = np.zeros(shape=(4*T+1, 4*T+1))\n",
    "    res[:T,:T] += hessF(x[0:T])    # гессиан исходной функции\n",
    "    tmp = (H @ x-g)\n",
    "    for i in range(H.shape[0]):        # подсчет гессиана барьерной функции\n",
    "        tmp_ = np.eye(H.shape[1])\n",
    "        for j in range(H.shape[1]):\n",
    "            for k in range(H.shape[1]):\n",
    "                tmp_[j][k] = H[i, j] * H[i, k]\n",
    "#                 if tmp[i] == 0:\n",
    "#                     print(\"error\")\n",
    "        res += (r * tmp_ / (tmp[i] ** 2))\n",
    "    return res"
   ]
  },
  {
   "cell_type": "markdown",
   "metadata": {},
   "source": [
    "Усовершенстванный метод Ньютона для задачи с ограничениями типа равенств, выбор шага по способу Армихо, и кроме того, на каждом шаге осуществляетяс проверка того, что новая точка принадлежит допустимой области, если это не так, то шаг снова уменьшается."
   ]
  },
  {
   "cell_type": "code",
   "execution_count": 6,
   "metadata": {},
   "outputs": [],
   "source": [
    "# Проверка того, что точка лежит в допустимой области ограничений\n",
    "def check(x_next):\n",
    "    flag = True\n",
    "    tmp = H @ x_next-g\n",
    "    for i in range(len(tmp)):\n",
    "        if tmp[i] >= 0:\n",
    "            flag = False\n",
    "    if np.abs(np.sum(A_mtx @ x_next - b)) > 1e-6:\n",
    "#         print(np.sum(A_mtx @ x_next - b))\n",
    "        flag = False\n",
    "    return flag\n",
    "\n",
    "# Метод Ньютона для решения задачи с ограничениями типа равенств\n",
    "def modified_newton(f, gradf, hessf, x0, A, b, eps=1e-6):\n",
    "    x = x0.copy()\n",
    "    n = x.shape[0]\n",
    "    size = n + A.shape[0]\n",
    "    while True:\n",
    "        B = np.zeros(shape=(size,size))\n",
    "        B[:n,:n] = hessf(x)\n",
    "        B[:n,n:] = A.T\n",
    "        B[n:,:n] = A\n",
    "        \n",
    "        c = np.zeros(size)\n",
    "        c[:n] = -gradf(x)\n",
    "        step = np.linalg.solve(B, c)[:n]\n",
    "        \n",
    "        dec = np.sqrt(step.T @ hessf(x) @ step)\n",
    "        if (dec ** 2) < 2 * eps:\n",
    "            break\n",
    "            \n",
    "        alpha = 1\n",
    "        beta = 0.1\n",
    "        rho = 0.1\n",
    "        x_next = x + alpha * step\n",
    "        while not check(x_next) or f(x_next) > f(x) + beta * alpha * np.array(gradf(x)).dot(step):\n",
    "            alpha *= rho\n",
    "            x_next = x + alpha * step\n",
    "        \n",
    "        x = x_next\n",
    "    return x"
   ]
  },
  {
   "cell_type": "markdown",
   "metadata": {},
   "source": [
    "Решаем задачу барьерным способом: на каждой итерации уменьшаем значение $r$ и ищем следующую точку с помощью метода Ньютона для задачи с ограничениями-равенствами."
   ]
  },
  {
   "cell_type": "code",
   "execution_count": 7,
   "metadata": {},
   "outputs": [],
   "source": [
    "m = A_mtx.shape[0]\n",
    "r = 1\n",
    "rho = 0.1\n",
    "num_iter = 0\n",
    "x = x0.copy()\n",
    "# print(x0, sum(F(x0[:T])), f(x0))\n",
    "while True:\n",
    "#     print(\"start_iteration:\")\n",
    "    x_next = modified_newton(f, gradf, hessf, x, A_mtx, b, 1e-6)\n",
    "#     print(\"x_next:\", x_next, sum(F(x_next[:T])), f(x_next))\n",
    "    x = x_next\n",
    "    if m * r < 1e-6:\n",
    "        break\n",
    "    r *= rho   \n",
    "    num_iter += 1"
   ]
  },
  {
   "cell_type": "code",
   "execution_count": 8,
   "metadata": {},
   "outputs": [
    {
     "name": "stdout",
     "output_type": "stream",
     "text": [
      "Начальная допустимая точка x0 : [ 0.5    0.7    0.7    0.5    0.65  -0.1    0.3    0.1    0.15  -0.45\n",
      "  0.025  0.04   0.06   0.05   0.03   0.5    0.6    0.3    0.2    0.05\n",
      "  0.5  ]\n",
      "Значение функции F(x0) : 1.4738485967383208 \n",
      "\n",
      "Найденное решение x* : [ 5.68980020e-01  5.69072886e-01  5.69026284e-01  5.69000774e-01\n",
      "  5.68920122e-01 -1.93980007e-01  3.90927149e-01  1.70973729e-01\n",
      "  3.09992390e-02 -3.98920110e-01  1.25828054e-08  3.48567417e-08\n",
      "  1.38380314e-08  1.28114905e-08  1.23665301e-08  6.23224872e-01\n",
      "  8.17204879e-01  4.26277731e-01  2.55304001e-01  2.24304762e-01\n",
      "  6.23224872e-01]\n",
      "Значение функции F* :\t 1.2814975347876951\n"
     ]
    }
   ],
   "source": [
    "print(\"Начальная допустимая точка x0 :\", x0)\n",
    "print(\"Значение функции F(x0) :\", sum(F(x0[:T])), \"\\n\")\n",
    "print(\"Найденное решение x* :\", x)\n",
    "print(\"Значение функции F* :\\t\", sum(F(x[:T])))"
   ]
  },
  {
   "cell_type": "code",
   "execution_count": null,
   "metadata": {},
   "outputs": [],
   "source": [
    "# print(x)\n",
    "# print(sum(F(x[:T])))\n",
    "# print(x[0:T] + x[T:2*T] - x[2*T:3*T])\n",
    "# print(x[3*T+1:]-x[3*T:-1]+x[T:2*T])\n",
    "# print(x[0:T])\n",
    "# print(x[T:2*T])\n",
    "# print(x[2*T:3*T])\n",
    "# print(x[3*T:])"
   ]
  },
  {
   "cell_type": "markdown",
   "metadata": {},
   "source": [
    "# Задача линейного программирования.\n",
    "Возьмем в качестве функции $F$ линейную функцию, решим задачу тем же способом, и сравним полученный ответ с решением пакетного модуля cvxopt."
   ]
  },
  {
   "cell_type": "code",
   "execution_count": 533,
   "metadata": {},
   "outputs": [],
   "source": [
    "from cvxopt import matrix, solvers"
   ]
  },
  {
   "cell_type": "code",
   "execution_count": 557,
   "metadata": {},
   "outputs": [],
   "source": [
    "c = np.zeros(4*T + 1)\n",
    "c[:T] = np.array([1.5, 1.4, 1.8, 1.2, 2.6])\n",
    "\n",
    "F = lambda x: sum(x * c)\n",
    "gradF = lambda x: c\n",
    "hessF = lambda x: np.zeros(4*T+1)\n",
    "\n",
    "r = 1.\n",
    "\n",
    "def f(x):\n",
    "    res = F(x)                          # исходная функция\n",
    "    res += (r * sum(-np.log(-(H @ x-g))))   # логарифмический барьер\n",
    "    return res\n",
    "\n",
    "# Градиент целевой функции\n",
    "def gradf(x):\n",
    "    res = np.zeros(4*T + 1)\n",
    "    res += gradF(x)\n",
    "#     res[:T] = gradF(x[0:T])        # градиент исходной функции\n",
    "    \n",
    "    tmp = (H @ x-g)\n",
    "    for i in range(H.shape[0]):\n",
    "#         if tmp[i] == 0:\n",
    "#             print(\"error\")\n",
    "        res += (r * (-H[i,:].T) / tmp[i])  # подсчет градиента барьерной части\n",
    "    return res\n",
    "\n",
    "# Гессиан целевой функции\n",
    "def hessf(x):\n",
    "    res = np.zeros(shape=(4*T+1, 4*T+1))\n",
    "#     res[:T,:T] += t * hessF(x[0:T])    # гессиан исходной функции\n",
    "    tmp = (H @ x-g)\n",
    "    for i in range(H.shape[0]):        # подсчет гессиана барьерной функции\n",
    "        tmp_ = np.eye(H.shape[1])\n",
    "        for j in range(H.shape[1]):\n",
    "            for k in range(H.shape[1]):\n",
    "                tmp_[j][k] = H[i, j] * H[i, k]\n",
    "#                 if tmp[i] == 0:\n",
    "#                     print(\"error\")\n",
    "        res += (r * tmp_ / (tmp[i] ** 2))\n",
    "    return res"
   ]
  },
  {
   "cell_type": "code",
   "execution_count": 558,
   "metadata": {},
   "outputs": [],
   "source": [
    "m = A_mtx.shape[0]\n",
    "r = 1\n",
    "rho = 0.1\n",
    "num_iter = 0\n",
    "x = x0.copy()\n",
    "# print(x0, sum(F(x0[:T])), f(x0))\n",
    "while True:\n",
    "#     print(\"start_iteration:\")\n",
    "    x_next = modified_newton(f, gradf, hessf, x, A_mtx, b, 1e-6)\n",
    "#     print(\"x_next:\", x_next, sum(F(x_next[:T])), f(x_next))\n",
    "    x = x_next\n",
    "    if m * r < 1e-6:\n",
    "        break\n",
    "    r *= rho   \n",
    "    num_iter += 1"
   ]
  },
  {
   "cell_type": "code",
   "execution_count": 559,
   "metadata": {},
   "outputs": [
    {
     "name": "stdout",
     "output_type": "stream",
     "text": [
      "[ 7.99999963e-01  7.99999981e-01  4.45000080e-01  7.99999988e-01\n",
      "  9.29863342e-09 -4.24999959e-01  1.60000024e-01  2.94999924e-01\n",
      " -1.99999984e-01  1.69999995e-01  4.04398846e-09  4.09035204e-09\n",
      "  4.10072805e-09  4.07762356e-09  4.08899344e-09  3.50083677e-01\n",
      "  7.75083635e-01  6.15083612e-01  3.20083688e-01  5.20083671e-01\n",
      "  3.50083677e-01]\n"
     ]
    }
   ],
   "source": [
    "print(x)"
   ]
  },
  {
   "cell_type": "code",
   "execution_count": 535,
   "metadata": {},
   "outputs": [
    {
     "name": "stdout",
     "output_type": "stream",
     "text": [
      "     pcost       dcost       gap    pres   dres   k/t\n",
      " 0:  3.7576e+00 -2.4640e+01  1e+02  2e+00  1e+00  1e+00\n",
      " 1:  3.6799e+00  8.4040e-03  9e+00  4e-01  2e-01  2e+00\n",
      " 2:  4.0564e+00  3.5811e+00  9e-01  6e-02  3e-02  3e-01\n",
      " 3:  4.0650e+00  3.9729e+00  2e-01  1e-02  5e-03  5e-02\n",
      " 4:  4.0796e+00  4.0552e+00  4e-02  2e-03  1e-03  5e-03\n",
      " 5:  4.0810e+00  4.0807e+00  4e-04  3e-05  1e-05  5e-05\n",
      " 6:  4.0810e+00  4.0810e+00  4e-06  3e-07  1e-07  5e-07\n",
      " 7:  4.0810e+00  4.0810e+00  4e-08  3e-09  1e-09  5e-09\n",
      "Optimal solution found.\n"
     ]
    }
   ],
   "source": [
    "c = np.zeros(4*T + 1)\n",
    "c[:T] = np.array([1.5, 1.4, 1.8, 1.2, 2.6])\n",
    "c = matrix(c)\n",
    "H = matrix(H)\n",
    "g = matrix(g)\n",
    "A_mtx = matrix(A_mtx)\n",
    "b = matrix(b)\n",
    "sol=solvers.lp(c,H,g, A_mtx, b)"
   ]
  },
  {
   "cell_type": "code",
   "execution_count": 560,
   "metadata": {},
   "outputs": [
    {
     "name": "stdout",
     "output_type": "stream",
     "text": [
      "[ 8.00e-01]\n",
      "[ 8.00e-01]\n",
      "[ 4.45e-01]\n",
      "[ 8.00e-01]\n",
      "[ 6.20e-10]\n",
      "[-4.25e-01]\n",
      "[ 1.60e-01]\n",
      "[ 2.95e-01]\n",
      "[-2.00e-01]\n",
      "[ 1.70e-01]\n",
      "[-7.96e-10]\n",
      "[-4.45e-10]\n",
      "[-5.43e-10]\n",
      "[-7.72e-10]\n",
      "[-6.87e-10]\n",
      "[ 3.51e-01]\n",
      "[ 7.76e-01]\n",
      "[ 6.16e-01]\n",
      "[ 3.21e-01]\n",
      "[ 5.21e-01]\n",
      "[ 3.51e-01]\n",
      "\n"
     ]
    }
   ],
   "source": [
    "print(sol[\"x\"])\n"
   ]
  }
 ],
 "metadata": {
  "kernelspec": {
   "display_name": "Python 3",
   "language": "python",
   "name": "python3"
  },
  "language_info": {
   "codemirror_mode": {
    "name": "ipython",
    "version": 3
   },
   "file_extension": ".py",
   "mimetype": "text/x-python",
   "name": "python",
   "nbconvert_exporter": "python",
   "pygments_lexer": "ipython3",
   "version": "3.6.5"
  }
 },
 "nbformat": 4,
 "nbformat_minor": 2
}

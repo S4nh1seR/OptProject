{
 "cells": [
  {
   "cell_type": "code",
   "execution_count": 1,
   "metadata": {},
   "outputs": [],
   "source": [
    "from cvxopt import matrix, solvers"
   ]
  },
  {
   "cell_type": "markdown",
   "metadata": {},
   "source": [
    "# Задача 1: Cucumbers and onions"
   ]
  },
  {
   "cell_type": "code",
   "execution_count": 4,
   "metadata": {},
   "outputs": [
    {
     "name": "stdout",
     "output_type": "stream",
     "text": [
      "     pcost       dcost       gap    pres   dres   k/t\n",
      " 0: -1.0491e+01 -3.8649e+01  3e+01  0e+00  4e-01  1e+00\n",
      " 1: -1.7071e+01 -2.1868e+01  6e+00  1e-16  7e-02  3e-01\n",
      " 2: -2.1796e+01 -2.2032e+01  3e-01  4e-16  4e-03  4e-02\n",
      " 3: -2.1998e+01 -2.2000e+01  3e-03  1e-16  4e-05  4e-04\n",
      " 4: -2.2000e+01 -2.2000e+01  3e-05  3e-16  4e-07  4e-06\n",
      " 5: -2.2000e+01 -2.2000e+01  3e-07  2e-16  4e-09  4e-08\n",
      "Optimal solution found.\n"
     ]
    }
   ],
   "source": [
    "A = matrix([[2.0, -2.0, 1.0, -1.0, -1.0, 0.0], [1.0, -1.0, 2.0, -2.0, 0.0, -1.0] ])\n",
    "b = matrix([8.0, 0.0, 7.0, 0.0, 0.0, 0.0])\n",
    "c = matrix([-4.0, -5.0])\n",
    "sol=solvers.lp(c,A,b)"
   ]
  },
  {
   "cell_type": "code",
   "execution_count": 5,
   "metadata": {},
   "outputs": [
    {
     "name": "stdout",
     "output_type": "stream",
     "text": [
      "[ 3.00e+00]\n",
      "[ 2.00e+00]\n",
      "\n"
     ]
    }
   ],
   "source": [
    "print(sol['x'])"
   ]
  },
  {
   "cell_type": "markdown",
   "metadata": {},
   "source": [
    "# Задача 2: German wines"
   ]
  },
  {
   "cell_type": "code",
   "execution_count": 6,
   "metadata": {},
   "outputs": [
    {
     "name": "stdout",
     "output_type": "stream",
     "text": [
      "     pcost       dcost       gap    pres   dres   k/t\n",
      " 0: -9.3116e+02 -3.5925e+03  3e+03  0e+00  3e-01  1e+00\n",
      " 1: -1.8741e+03 -2.8036e+03  1e+03  2e-16  1e-01  3e+01\n",
      " 2: -2.0724e+03 -2.1745e+03  1e+02  2e-16  1e-02  5e+00\n",
      " 3: -2.0995e+03 -2.1012e+03  2e+00  3e-16  2e-04  8e-02\n",
      " 4: -2.1000e+03 -2.1000e+03  2e-02  1e-16  2e-06  8e-04\n",
      " 5: -2.1000e+03 -2.1000e+03  2e-04  3e-16  2e-08  8e-06\n",
      "Optimal solution found.\n"
     ]
    }
   ],
   "source": [
    "A = matrix([[1.0, -1.0, 1.0, -1.0, 2.0, -2.0, 2.0, -2.0, -1.0, 0.0, 0.0], \n",
    "            [2.0, -2.0, 0.0, 0.0, 1.0, -1.0, 3.0, -3.0, 0.0, -1.0, 0.0],\n",
    "            [0.0, 0.0, 2.0, -2.0, 0.0, 0.0, 1.0, -1.0, 0.0, 0.0, -1.0]])\n",
    "b = matrix([150.0, 0.0, 150.0, 0.0, 80.0, 0.0, 225.0, 0.0, 0.0, 0.0, 0.0])\n",
    "c = matrix([-10.0, -12.0, -20.0])\n",
    "sol=solvers.lp(c,A,b)"
   ]
  },
  {
   "cell_type": "code",
   "execution_count": 7,
   "metadata": {},
   "outputs": [
    {
     "name": "stdout",
     "output_type": "stream",
     "text": [
      "[ 1.49e-06]\n",
      "[ 5.00e+01]\n",
      "[ 7.50e+01]\n",
      "\n"
     ]
    }
   ],
   "source": [
    "print(sol['x'])"
   ]
  },
  {
   "cell_type": "markdown",
   "metadata": {},
   "source": [
    "# Задача 3: Perfumes"
   ]
  },
  {
   "cell_type": "code",
   "execution_count": 10,
   "metadata": {},
   "outputs": [
    {
     "name": "stdout",
     "output_type": "stream",
     "text": [
      "     pcost       dcost       gap    pres   dres   k/t\n",
      " 0: -1.7864e+03 -4.2931e+03  3e+03  0e+00  2e-16  1e+00\n",
      " 1: -3.4758e+03 -3.9965e+03  5e+02  2e-16  5e-16  5e+01\n",
      " 2: -3.5980e+03 -3.6165e+03  2e+01  2e-16  2e-16  2e+00\n",
      " 3: -3.6000e+03 -3.6002e+03  2e-01  2e-16  2e-16  2e-02\n",
      " 4: -3.6000e+03 -3.6000e+03  2e-03  3e-16  3e-16  2e-04\n",
      "Optimal solution found.\n"
     ]
    }
   ],
   "source": [
    "A = matrix([[1.0, -1.0, 0.0, 0.0, 3.0, -3.0],\n",
    "            [0.0, 0.0, 2.0, -2.0, 2.0, -2.0] ])\n",
    "b = matrix([4.0, 0.0, 12.0, 0.0, 18.0, 0.0])\n",
    "c = matrix([-300.0, -500.0])\n",
    "sol=solvers.lp(c,A,b)"
   ]
  },
  {
   "cell_type": "code",
   "execution_count": 11,
   "metadata": {},
   "outputs": [
    {
     "name": "stdout",
     "output_type": "stream",
     "text": [
      "[ 2.00e+00]\n",
      "[ 6.00e+00]\n",
      "\n"
     ]
    }
   ],
   "source": [
    "print(sol['x'])"
   ]
  },
  {
   "cell_type": "markdown",
   "metadata": {},
   "source": [
    "# Задание 4: Dairy products"
   ]
  },
  {
   "cell_type": "code",
   "execution_count": 13,
   "metadata": {},
   "outputs": [
    {
     "name": "stdout",
     "output_type": "stream",
     "text": [
      "     pcost       dcost       gap    pres   dres   k/t\n",
      " 0: -5.1781e+03 -1.9736e+04  2e+04  0e+00  1e-01  1e+00\n",
      " 1: -8.4238e+03 -1.1314e+04  3e+03  1e-16  3e-02  1e+02\n",
      " 2: -1.0292e+04 -1.0539e+04  3e+02  1e-16  2e-03  1e+01\n",
      " 3: -1.0423e+04 -1.0466e+04  5e+01  1e-16  4e-04  2e+00\n",
      " 4: -1.0444e+04 -1.0445e+04  5e-01  2e-16  4e-06  2e-02\n",
      " 5: -1.0444e+04 -1.0444e+04  5e-03  3e-16  4e-08  2e-04\n",
      "Optimal solution found.\n"
     ]
    }
   ],
   "source": [
    "# сыры\n",
    "A = matrix([[5.0, -5.0, 3.0, -3.0, 2.0, -2.0, 0.25, -0.25, 0.0, 0.0], \n",
    "            [5.0, -5.0, 0.0, 0.0, 5.0, -5.0, 0.5, -0.5, -1.0, 0.0],\n",
    "            [2.0, -2.0, 0.0, 0.0, 4.0, -4.0, 0.16666666666666666, -0.16666666666666666, 0.0, -1.0]])\n",
    "b = matrix([3000.0, 0.0, 1000.0, 0.0, 4000.0, 0.0, 250.0, 0.0, 0.0, 0.0])\n",
    "c = matrix([-10.0, -15.0, -9.0])\n",
    "sol=solvers.lp(c,A,b)"
   ]
  },
  {
   "cell_type": "code",
   "execution_count": 14,
   "metadata": {},
   "outputs": [
    {
     "name": "stdout",
     "output_type": "stream",
     "text": [
      "[ 1.11e+02]\n",
      "[ 2.22e+02]\n",
      "[ 6.67e+02]\n",
      "\n"
     ]
    }
   ],
   "source": [
    "print(sol['x'])"
   ]
  },
  {
   "cell_type": "markdown",
   "metadata": {},
   "source": [
    "# Задание 5: Apples"
   ]
  },
  {
   "cell_type": "code",
   "execution_count": 21,
   "metadata": {},
   "outputs": [
    {
     "name": "stdout",
     "output_type": "stream",
     "text": [
      "     pcost       dcost       gap    pres   dres   k/t\n",
      " 0: -3.2501e+03 -2.9499e+04  3e+04  0e+00  9e-03  1e+00\n",
      " 1: -6.0558e+03 -1.0639e+04  5e+03  1e-16  2e-03  2e+02\n",
      " 2: -6.1485e+03 -1.1946e+04  8e+03  5e-16  2e-03  3e+02\n",
      " 3: -9.9041e+03 -1.1724e+04  3e+03  4e-16  6e-04  2e+02\n",
      " 4: -1.0938e+04 -1.1050e+04  2e+02  2e-16  4e-05  1e+01\n",
      " 5: -1.0999e+04 -1.1001e+04  2e+00  3e-16  4e-07  1e-01\n",
      " 6: -1.1000e+04 -1.1000e+04  2e-02  6e-16  4e-09  1e-03\n",
      " 7: -1.1000e+04 -1.1000e+04  2e-04  4e-16  4e-11  1e-05\n",
      "Optimal solution found.\n",
      "Point:\n",
      "[ 1.67e+01]\n",
      "[ 2.01e-08]\n",
      "[ 3.33e+03]\n",
      "[ 1.63e-05]\n",
      "\n",
      "Value:\n",
      "10999.999937316254\n"
     ]
    }
   ],
   "source": [
    "c = matrix([-500.0, -500.0, -0.8, 4.0]) \n",
    "b = matrix([5000.0, 0.0, 2000.0, 0.0, 500., 0.0, 0.0, 0.0, 0.0]) \n",
    "A = matrix([[500.0, -500.0, 0.0, 0.0, 0.0, 0.0, -1.0, 0.0, 0.0], \n",
    "            [0.0, 0.0, 250.0, -250.0, 0.0, 0.0, 0.0, -1.0, 0.0], \n",
    "            [-1.0, 1.0, 0.6, -0.6, 0.0, 0.0, 0.0, 0.0, -1.0], \n",
    "            [0.0, 0.0, -1.0, 1.0, 0.4, -0.4, 0.0, 0.0, 0.0]]) \n",
    "sol = solvers.lp(c, A, b) \n",
    "print(\"Point:\") \n",
    "print(sol['x']) \n",
    "print(\"Value:\") \n",
    "result = 0. \n",
    "for i in range(4): \n",
    "    result -= c[i] * sol['x'][i] \n",
    "print(result)"
   ]
  }
 ],
 "metadata": {
  "kernelspec": {
   "display_name": "Python 3",
   "language": "python",
   "name": "python3"
  },
  "language_info": {
   "codemirror_mode": {
    "name": "ipython",
    "version": 3
   },
   "file_extension": ".py",
   "mimetype": "text/x-python",
   "name": "python",
   "nbconvert_exporter": "python",
   "pygments_lexer": "ipython3",
   "version": "3.6.5"
  }
 },
 "nbformat": 4,
 "nbformat_minor": 2
}

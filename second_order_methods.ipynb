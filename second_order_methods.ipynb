{
 "cells": [
  {
   "cell_type": "markdown",
   "metadata": {},
   "source": [
    "## Примеры реализации и сравнение методов безусловной оптимизации"
   ]
  },
  {
   "cell_type": "markdown",
   "metadata": {},
   "source": [
    "Рассмотрим различные методы выбора шага:"
   ]
  },
  {
   "cell_type": "code",
   "execution_count": 1,
   "metadata": {},
   "outputs": [],
   "source": [
    "def alpha_Armijo_rule(x, f, grad_f_x, h, alpha, gamma, theta):\n",
    "    x = np.array(x)\n",
    "    h = np.array(h)\n",
    "    alpha_ = alpha \n",
    "    while f(x + alpha_ * h) - f(x) > gamma * alpha_ * (grad_f_x * h).sum():\n",
    "        alpha_*= theta\n",
    "    return alpha_    "
   ]
  },
  {
   "cell_type": "code",
   "execution_count": 2,
   "metadata": {},
   "outputs": [],
   "source": [
    "def alpha_constant(x, f, grad_f_x, h, alpha, gamma, theta):\n",
    "    return alpha"
   ]
  },
  {
   "cell_type": "markdown",
   "metadata": {},
   "source": [
    "Функция для построения графиков"
   ]
  },
  {
   "cell_type": "code",
   "execution_count": 3,
   "metadata": {},
   "outputs": [],
   "source": [
    "def add_graph(x, y, label, ymin, ymax):\n",
    "    plt.plot(x, y, '-o' ,label=label)\n",
    "    plt.xlabel(\"x\")\n",
    "    plt.ylabel(\"y\")\n",
    "    plt.legend()"
   ]
  },
  {
   "cell_type": "code",
   "execution_count": 4,
   "metadata": {},
   "outputs": [],
   "source": [
    "%matplotlib inline\n",
    "import pylab\n",
    "import numpy as np\n",
    "from matplotlib import pyplot as plt\n",
    "import matplotlib\n",
    "from scipy import integrate\n",
    "import numpy.linalg as ln\n",
    "import scipy as sp\n",
    "import scipy.optimize\n",
    "import math\n",
    "matplotlib.rcParams.update({'font.size': 22})\n",
    "pylab.rcParams['figure.figsize'] = (10.0, 8.0)"
   ]
  },
  {
   "cell_type": "markdown",
   "metadata": {},
   "source": [
    "## Квази-Ньютоновский метод BFGS\n",
    "\n",
    "Рассмотрим функцию $f = x \\cdot (ln(x+1))$"
   ]
  },
  {
   "cell_type": "code",
   "execution_count": 5,
   "metadata": {},
   "outputs": [
    {
     "name": "stdout",
     "output_type": "stream",
     "text": [
      "Result of BFGS method with constant:\n",
      "Final Result (best point): [ 1.49805092e-06 -3.00206750e-06]\n",
      "Iteration Count: 7\n"
     ]
    },
    {
     "data": {
      "image/png": "[encoded data removed]",
      "text/plain": [
       "<Figure size 432x288 with 1 Axes>"
      ]
     },
     "metadata": {},
     "output_type": "display_data"
    },
    {
     "name": "stdout",
     "output_type": "stream",
     "text": [
      "Result of BFGS method with Armijo:\n",
      "Final Result (best point): [-1.44575116e-05 -2.86001824e-05]\n",
      "Iteration Count: 5\n"
     ]
    },
    {
     "data": {
      "image/png": "[encoded data removed]",
      "text/plain": [
       "<Figure size 432x288 with 1 Axes>"
      ]
     },
     "metadata": {},
     "output_type": "display_data"
    }
   ],
   "source": [
    "\n",
    "def f1(x):\n",
    "    res = np.zeros(len(x))\n",
    "    for i in range(len(res)):\n",
    "        res[i] = np.log(x[i]+1) + x[i]*(1 / (x[i] + 1))\n",
    "    return res\n",
    "\n",
    "\n",
    "f = lambda x: sum(x*np.log(x+1))\n",
    "\n",
    "\n",
    "\n",
    "def bfgs_method(f, fprime, x0, rule, alpha_0, epsi=10e-3, gamma = 0.2, theta = 0.5):    \n",
    "    maxiter = len(x0) * 200\n",
    "    # initial values\n",
    "    k = 0\n",
    "    gfk = fprime(x0)\n",
    "    N = len(x0)\n",
    "    # Set the Identity matrix I.\n",
    "    I = np.eye(N, dtype=int)\n",
    "    Hk = I\n",
    "    xk = x0\n",
    "    answer = []\n",
    "    while ln.norm(gfk) > epsi and k < maxiter:\n",
    "        \n",
    "        \n",
    "        pk = -np.dot(Hk, gfk)\n",
    "        #line_search = sp.optimize.line_search(f, f1, xk, pk)\n",
    "\n",
    "        alpha_k = alpha_0\n",
    "        alpha_k = rule(xk, f, gfk, pk , alpha_k, gamma, theta)\n",
    "\n",
    "        xkp1 = xk + alpha_k * pk\n",
    "        sk = xkp1 - xk\n",
    "        xk = xkp1\n",
    "        \n",
    "        gfkp1 = fprime(xkp1)\n",
    "        yk = gfkp1 - gfk\n",
    "        gfk = gfkp1\n",
    "        \n",
    "        k += 1\n",
    "        \n",
    "        ro = 1.0 / (np.dot(yk, sk))\n",
    "        A1 = I - ro * sk[:, np.newaxis] * yk[np.newaxis, :]\n",
    "        A2 = I - ro * yk[:, np.newaxis] * sk[np.newaxis, :]\n",
    "        Hk = np.dot(A1, np.dot(Hk, A2)) + (ro * sk[:, np.newaxis] *\n",
    "                                                 sk[np.newaxis, :])\n",
    "        answer.append((xk, k))\n",
    "        \n",
    "\n",
    "    return answer\n",
    "\n",
    "\n",
    "#result, k = bfgs_method(f, f1, np.ones(10))\n",
    "x0 = np.random.randint(0, 25, 2)\n",
    "answer = bfgs_method(f, f1, x0/10, alpha_constant, 1, 10e-5)\n",
    "result, k = answer[-1]\n",
    "\n",
    "print('Result of BFGS method with constant:')\n",
    "print('Final Result (best point): %s' % (result))\n",
    "print('Iteration Count: %s' % (k))\n",
    "temp = np.array(answer)\n",
    "sett = [f(temp[i][0] ) for i in range(len(temp[:,0]))]\n",
    "add_graph(temp[:,1], sett, \"из точки 1\", ymin=0, ymax=0.8)\n",
    "plt.show()\n",
    "\n",
    "answer = bfgs_method(f, f1, x0/10,  alpha_Armijo_rule, 1, 10e-5)\n",
    "result, k = answer[-1]\n",
    "\n",
    "print('Result of BFGS method with Armijo:')\n",
    "print('Final Result (best point): %s' % (result))\n",
    "print('Iteration Count: %s' % (k))\n",
    "temp = np.array(answer)\n",
    "sett = [f(temp[i][0] ) for i in range(len(temp[:,0]))]\n",
    "add_graph(temp[:,1], sett, \"из точки 1\", ymin=0, ymax=0.8)\n",
    "plt.show()"
   ]
  },
  {
   "cell_type": "code",
   "execution_count": 6,
   "metadata": {},
   "outputs": [],
   "source": [
    "def hessf(x):\n",
    "    res = np.zeros((len(x),len(x)))\n",
    "    for i in range(len(x)):\n",
    "        for j in range(len(x)):\n",
    "            if (i == j):\n",
    "                res[i] = 2/(x[i]+1) - (x[i] / (x[i]+1)**2)\n",
    "        res[i] = np.log(x[i]+1) + x[i]*(1 / (x[i] + 1))\n",
    "    return res"
   ]
  },
  {
   "cell_type": "code",
   "execution_count": 7,
   "metadata": {},
   "outputs": [],
   "source": [
    "epsilon = 0.00001\n",
    "max_c = 2000"
   ]
  },
  {
   "cell_type": "code",
   "execution_count": 8,
   "metadata": {},
   "outputs": [],
   "source": [
    "def norm(x):\n",
    "    x = np.array(x)\n",
    "    return ((x**2).sum())**0.5"
   ]
  },
  {
   "cell_type": "code",
   "execution_count": 9,
   "metadata": {},
   "outputs": [],
   "source": [
    "def gradient_descent(iteration_num_left, x_prev, f, grad, alpha, alpha_0, gamma = 0.2, theta = 0.5):\n",
    "    grad_x_prev = grad(x_prev)\n",
    "    a = alpha(x_prev,f, grad_x_prev, np.zeros(np.size(grad_x_prev)) - grad_x_prev, alpha_0, gamma, theta)\n",
    "    x = x_prev - a * grad_x_prev\n",
    "    \n",
    "    if norm(x) > max_c or norm(grad(x_prev)) < epsilon or norm(x - x_prev) < 2 * epsilon or iteration_num_left == 0:\n",
    "        return x\n",
    "    \n",
    "    return gradient_descent(iteration_num_left - 1, x, f, grad, alpha, alpha_0, gamma, theta)    "
   ]
  },
  {
   "cell_type": "code",
   "execution_count": 10,
   "metadata": {},
   "outputs": [],
   "source": [
    "def Newton(f, gradf, hessf, x0, epsilon, num_iter, rule, alpha_0, gamma = 0.2, theta = 0.5):\n",
    "    x = x0.copy()\n",
    "    iteration = 0\n",
    "    answer = []\n",
    "    while True:\n",
    "        gradient = gradf(x)\n",
    "        hess = hessf(x)\n",
    "        h = np.linalg.solve(hess, -gradient)\n",
    "        alpha = alpha_0\n",
    "        #alpha = rule(x, f, gradient, h , alpha, gamma, theta)\n",
    "        alpha = alpha_Armijo_rule(x, f, gradient, h , alpha, gamma, theta)\n",
    "        x = x + alpha * h\n",
    "        answer.append((x, iteration))\n",
    "        iteration += 1\n",
    "        if np.linalg.norm(gradf(x)) < epsilon:\n",
    "            break\n",
    "        if iteration >= num_iter:\n",
    "            break\n",
    "        \n",
    "    #res = {\"x\": x, \"num_iter\": iteration, \"tol\": np.linalg.norm(gradf(x))}\n",
    "    return answer"
   ]
  },
  {
   "cell_type": "code",
   "execution_count": 11,
   "metadata": {},
   "outputs": [],
   "source": [
    "def f_4(x):\n",
    "    return 100*(x[1] - x[0]**2)**2 + (1-x[0])**2\n",
    "def grad_f_4(x):\n",
    "    return np.array((-400*x[0]*(x[1] - x[0]**2) - 2*(1 - x[0]), 200*(x[1] - x[0]**2)))\n",
    "def inv_grad_grad_f_4(x):\n",
    "    return 1/(-400*200*(x[1]-x[0]**2)+2) *  np.array(\n",
    "        [200, 400*x[0], 400*x[0], -400*(x[1]-3*x[0]) + 2]).reshape((2,2))\n",
    "def grad_f_4(x):\n",
    "    res = np.zeros(len(x))\n",
    "    for i in range(len(res)):\n",
    "        res[i] = np.log(x[i]+1) + x[i]*(1 / (x[i] + 1))\n",
    "    return res\n",
    "\n",
    "f_4 = lambda x: sum(x*np.log(x+1))\n",
    "\n",
    "def inv_grad_grad_f_4(x):\n",
    "    res = np.zeros((len(x),len(x)))\n",
    "    for i in range(len(x)):\n",
    "        for j in range(len(x)):\n",
    "            if (i == j):\n",
    "                res[i][j] = 2/(x[i]+1) - (x[i] / (x[i]+1)**2)\n",
    "    return res\n",
    "\n"
   ]
  },
  {
   "cell_type": "code",
   "execution_count": 12,
   "metadata": {},
   "outputs": [
    {
     "name": "stdout",
     "output_type": "stream",
     "text": [
      "Result of BFGS method with constant:\n",
      "Final Result (best point): [0.00315613 0.00339672]\n",
      "Iteration Count: 25\n"
     ]
    },
    {
     "data": {
      "image/png": "[encoded data removed]",
      "text/plain": [
       "<Figure size 432x288 with 1 Axes>"
      ]
     },
     "metadata": {},
     "output_type": "display_data"
    },
    {
     "name": "stdout",
     "output_type": "stream",
     "text": [
      "Result of BFGS method with Armijo:\n",
      "Final Result (best point): [0.00315613 0.00339672]\n",
      "Iteration Count: 25\n"
     ]
    },
    {
     "data": {
      "image/png": "[encoded data removed]",
      "text/plain": [
       "<Figure size 432x288 with 1 Axes>"
      ]
     },
     "metadata": {},
     "output_type": "display_data"
    }
   ],
   "source": [
    "x0 = np.random.randint(0, 25, 2)\n",
    "answer = Newton(f_4, grad_f_4, inv_grad_grad_f_4, x0, 10e-3,1000, alpha_constant, 0.2)\n",
    "result, k = answer[-1]\n",
    "print('Result of BFGS method with constant:')\n",
    "print('Final Result (best point): %s' % (result))\n",
    "print('Iteration Count: %s' % (k))\n",
    "temp = np.array(answer)\n",
    "sett = [f(temp[i][0] ) for i in range(len(temp[:,0]))]\n",
    "add_graph(temp[:,1], sett, \"из точки \"+str(x0), ymin=0, ymax=0.8)\n",
    "plt.show()\n",
    "\n",
    "answer = Newton(f_4, grad_f_4, inv_grad_grad_f_4, x0, 10e-3,1000, alpha_Armijo_rule, 0.2)\n",
    "result, k = answer[-1]\n",
    "print('Result of BFGS method with Armijo:')\n",
    "print('Final Result (best point): %s' % (result))\n",
    "print('Iteration Count: %s' % (k))\n",
    "temp = np.array(answer)\n",
    "sett = [f(temp[i][0] ) for i in range(len(temp[:,0]))]\n",
    "add_graph(temp[:,1], sett, \"из точки \"+str(x0), ymin=0, ymax=0.8)\n",
    "plt.show()"
   ]
  },
  {
   "cell_type": "code",
   "execution_count": null,
   "metadata": {},
   "outputs": [],
   "source": []
  },
  {
   "cell_type": "code",
   "execution_count": null,
   "metadata": {},
   "outputs": [],
   "source": []
  }
 ],
 "metadata": {
  "kernelspec": {
   "display_name": "Python 3",
   "language": "python",
   "name": "python3"
  },
  "language_info": {
   "codemirror_mode": {
    "name": "ipython",
    "version": 3
   },
   "file_extension": ".py",
   "mimetype": "text/x-python",
   "name": "python",
   "nbconvert_exporter": "python",
   "pygments_lexer": "ipython3",
   "version": "3.6.5"
  }
 },
 "nbformat": 4,
 "nbformat_minor": 2
}
